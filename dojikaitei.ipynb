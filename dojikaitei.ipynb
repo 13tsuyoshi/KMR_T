{
 "cells": [
  {
   "cell_type": "code",
   "execution_count": 2,
   "metadata": {
    "collapsed": false
   },
   "outputs": [
    {
     "data": {
      "text/plain": [
       "array([[  1.50000000e-04,   1.50000000e-03,   6.75000000e-03,\n",
       "          1.80000000e-02,   3.15000000e-02,   3.78000000e-02,\n",
       "          3.15000000e-02,   1.80000000e-02,   6.75000000e-03,\n",
       "          1.50000000e-03,   1.50000000e-04],\n",
       "       [  1.66416667e-04,   1.66416667e-03,   7.48875000e-03,\n",
       "          1.99700000e-02,   3.49475000e-02,   4.19370000e-02,\n",
       "          3.49475000e-02,   1.99700000e-02,   7.48875000e-03,\n",
       "          1.66416667e-03,   1.66416667e-04],\n",
       "       [  9.36093750e-05,   9.36093750e-04,   4.21242188e-03,\n",
       "          1.12331250e-02,   1.96579688e-02,   2.35895625e-02,\n",
       "          1.96579688e-02,   1.12331250e-02,   4.21242188e-03,\n",
       "          9.36093750e-04,   9.36093750e-05],\n",
       "       [  1.19047619e-02,   1.19047619e-01,   5.35714286e-01,\n",
       "          1.42857143e+00,   2.50000000e+00,   3.00000000e+00,\n",
       "          2.50000000e+00,   1.42857143e+00,   5.35714286e-01,\n",
       "          1.19047619e-01,   1.19047619e-02],\n",
       "       [  6.24062500e-05,   6.24062500e-04,   2.80828125e-03,\n",
       "          7.48875000e-03,   1.31053125e-02,   1.57263750e-02,\n",
       "          1.31053125e-02,   7.48875000e-03,   2.80828125e-03,\n",
       "          6.24062500e-04,   6.24062500e-05],\n",
       "       [  5.99100000e-05,   5.99100000e-04,   2.69595000e-03,\n",
       "          7.18920000e-03,   1.25811000e-02,   1.50973200e-02,\n",
       "          1.25811000e-02,   7.18920000e-03,   2.69595000e-03,\n",
       "          5.99100000e-04,   5.99100000e-05],\n",
       "       [  6.24062500e-05,   6.24062500e-04,   2.80828125e-03,\n",
       "          7.48875000e-03,   1.31053125e-02,   1.57263750e-02,\n",
       "          1.31053125e-02,   7.48875000e-03,   2.80828125e-03,\n",
       "          6.24062500e-04,   6.24062500e-05],\n",
       "       [  7.13214286e-05,   7.13214286e-04,   3.20946429e-03,\n",
       "          8.55857143e-03,   1.49775000e-02,   1.79730000e-02,\n",
       "          1.49775000e-02,   8.55857143e-03,   3.20946429e-03,\n",
       "          7.13214286e-04,   7.13214286e-05],\n",
       "       [  9.36093750e-05,   9.36093750e-04,   4.21242188e-03,\n",
       "          1.12331250e-02,   1.96579688e-02,   2.35895625e-02,\n",
       "          1.96579688e-02,   1.12331250e-02,   4.21242188e-03,\n",
       "          9.36093750e-04,   9.36093750e-05],\n",
       "       [  1.66416667e-04,   1.66416667e-03,   7.48875000e-03,\n",
       "          1.99700000e-02,   3.49475000e-02,   4.19370000e-02,\n",
       "          3.49475000e-02,   1.99700000e-02,   7.48875000e-03,\n",
       "          1.66416667e-03,   1.66416667e-04],\n",
       "       [  1.50000000e-04,   1.50000000e-03,   6.75000000e-03,\n",
       "          1.80000000e-02,   3.15000000e-02,   3.78000000e-02,\n",
       "          3.15000000e-02,   1.80000000e-02,   6.75000000e-03,\n",
       "          1.50000000e-03,   1.50000000e-04]])"
      ]
     },
     "execution_count": 2,
     "metadata": {},
     "output_type": "execute_result"
    }
   ],
   "source": [
    "#同時改訂の遷移行列。自分と対戦する事も許している。\n",
    "N=10\n",
    "p=0.3\n",
    "epsilon=0.003\n",
    "from __future__ import division\n",
    "import numpy as np\n",
    "import scipy.misc as scm#http://sucrose.hatenablog.com/entry/20110920/p1より\n",
    "P=np.zeros((N+1, N+1))\n",
    "for n in range(N+1):\n",
    "    for i in range(-n,-n+N+1):\n",
    "        y=[j for j in range(-i,N-n-i+1) if j in range(n+1)]#自分の行動が現在１で次に行動０をとる人数（複数の可能性もある）\n",
    "        combination=[]\n",
    "        for j in range(len(y)):\n",
    "            combination.append([i+y[j],y[j]])#i+yは自分の行動が現在０で次に行動１をとる人数\n",
    "        if n/N > p and n!=N:\n",
    "            a=0\n",
    "            for j in range(len(combination)):\n",
    "                a += scm.comb(N-n,combination[j][0], 1)/(N-n)*(1-epsilon/2)*scm.comb(n,combination[j][1], 1)/n*epsilon/2\n",
    "            P[n][n+i]=a\n",
    "        if n/N < p and n!=0:\n",
    "            a=0\n",
    "            for j in range(len(combination)):\n",
    "                a += scm.comb(N-n,combination[j][0], 1)/(N-n)*epsilon/2*scm.comb(n,combination[j][1], 1)/n*(1-epsilon/2)\n",
    "            P[n][n+i]=a\n",
    "        if n/N == p:\n",
    "            a=0\n",
    "            for j in range(len(combination)):\n",
    "                a += scm.comb(N-n,combination[j][0], 1)/(N-n)*1/2*scm.comb(n,combination[j][1], 1)/n*1/2\n",
    "            P[n][n+i]=a\n",
    "        if n==N:\n",
    "            P[n][n+i]=scm.comb(N,-i)/N*epsilon/2\n",
    "        if n==0:\n",
    "            P[n][n+i]=scm.comb(N,i)/N*epsilon/2\n",
    "P"
   ]
  },
  {
   "cell_type": "code",
   "execution_count": null,
   "metadata": {
    "collapsed": true
   },
   "outputs": [],
   "source": []
  }
 ],
 "metadata": {
  "kernelspec": {
   "display_name": "Python 2",
   "language": "python",
   "name": "python2"
  },
  "language_info": {
   "codemirror_mode": {
    "name": "ipython",
    "version": 2
   },
   "file_extension": ".py",
   "mimetype": "text/x-python",
   "name": "python",
   "nbconvert_exporter": "python",
   "pygments_lexer": "ipython2",
   "version": "2.7.10"
  }
 },
 "nbformat": 4,
 "nbformat_minor": 0
}
