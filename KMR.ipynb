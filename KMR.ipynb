{
 "cells": [
  {
   "cell_type": "code",
   "execution_count": 1,
   "metadata": {
    "collapsed": false
   },
   "outputs": [
    {
     "data": {
      "text/plain": [
       "[0, 0, 0, 0, 0, 0, 0, 0, 0, 0, 0]"
      ]
     },
     "execution_count": 1,
     "metadata": {},
     "output_type": "execute_result"
    }
   ],
   "source": [
    "n=10\n",
    "a=[0]*(n+1)\n",
    "a"
   ]
  },
  {
   "cell_type": "code",
   "execution_count": 2,
   "metadata": {
    "collapsed": false
   },
   "outputs": [
    {
     "data": {
      "text/plain": [
       "[[0, 0, 0, 0, 0, 0, 0, 0, 0, 0, 0],\n",
       " [0, 0, 0, 0, 0, 0, 0, 0, 0, 0, 0],\n",
       " [0, 0, 0, 0, 0, 0, 0, 0, 0, 0, 0],\n",
       " [0, 0, 0, 0, 0, 0, 0, 0, 0, 0, 0],\n",
       " [0, 0, 0, 0, 0, 0, 0, 0, 0, 0, 0],\n",
       " [0, 0, 0, 0, 0, 0, 0, 0, 0, 0, 0],\n",
       " [0, 0, 0, 0, 0, 0, 0, 0, 0, 0, 0],\n",
       " [0, 0, 0, 0, 0, 0, 0, 0, 0, 0, 0],\n",
       " [0, 0, 0, 0, 0, 0, 0, 0, 0, 0, 0],\n",
       " [0, 0, 0, 0, 0, 0, 0, 0, 0, 0, 0],\n",
       " [0, 0, 0, 0, 0, 0, 0, 0, 0, 0, 0]]"
      ]
     },
     "execution_count": 2,
     "metadata": {},
     "output_type": "execute_result"
    }
   ],
   "source": [
    "n=10\n",
    "a=[0]*(n+1)\n",
    "p=[a for i in range(n+1)]\n",
    "p"
   ]
  },
  {
   "cell_type": "code",
   "execution_count": 11,
   "metadata": {
    "collapsed": false
   },
   "outputs": [
    {
     "data": {
      "text/plain": [
       "[[0, 0, 0, 0, 0, 0, 0, 0, 0, 5e-06, 0.999995],\n",
       " [0, 0, 0, 0, 0, 0, 0, 0, 0, 5e-06, 0.999995],\n",
       " [0, 0, 0, 0, 0, 0, 0, 0, 0, 5e-06, 0.999995],\n",
       " [0, 0, 0, 0, 0, 0, 0, 0, 0, 5e-06, 0.999995],\n",
       " [0, 0, 0, 0, 0, 0, 0, 0, 0, 5e-06, 0.999995],\n",
       " [0, 0, 0, 0, 0, 0, 0, 0, 0, 5e-06, 0.999995],\n",
       " [0, 0, 0, 0, 0, 0, 0, 0, 0, 5e-06, 0.999995],\n",
       " [0, 0, 0, 0, 0, 0, 0, 0, 0, 5e-06, 0.999995],\n",
       " [0, 0, 0, 0, 0, 0, 0, 0, 0, 5e-06, 0.999995],\n",
       " [0, 0, 0, 0, 0, 0, 0, 0, 0, 5e-06, 0.999995],\n",
       " [0, 0, 0, 0, 0, 0, 0, 0, 0, 5e-06, 0.999995]]"
      ]
     },
     "execution_count": 11,
     "metadata": {},
     "output_type": "execute_result"
    }
   ],
   "source": [
    "#逐次改定で、自分と対戦することも可とした場合の遷移行列。\n",
    "n=10\n",
    "p=1/3\n",
    "a=[0]*(n+1)\n",
    "e=0.00001#εの代わりです。\n",
    "senni_gyoretu=[a for i in range(n+1)]\n",
    "for i in range(n+1):\n",
    "    if i/n > p and i!=n:\n",
    "        senni_gyoretu[i][i+1]=(1-i/n)*(1-e/2)\n",
    "        senni_gyoretu[i][i-1]=i/n*e/2\n",
    "        senni_gyoretu[i][i]=1-((1-i/n)*(1-e/2))-(i/n*e/2)\n",
    "    if i/n < p and i!=0:\n",
    "        senni_gyoretu[i][i+1]=(1-i/n)*(e/2)\n",
    "        senni_gyoretu[i][i-1]=i/n*(1-e/2)\n",
    "        senni_gyoretu[i][i]=1-((1-i/n)*(e/2))-(i/n*(1-e/2))\n",
    "    if i/n == p:    \n",
    "        senni_gyoretu[i][i+1]=1/2-i/2/n\n",
    "        senni_gyoretu[i][i-1]=i/2/n\n",
    "        senni_gyoretu[i][i]=1/2\n",
    "    if i==n:\n",
    "        senni_gyoretu[i][i-1]=e/2\n",
    "        senni_gyoretu[i][i]=1-e/2\n",
    "    if i==0:\n",
    "        senni_gyoretu[i][i+1]=e/2\n",
    "        senni_gyoretu[i][i]=1-e/2\n",
    "senni_gyoretu\n",
    "\n",
    "\n",
    "\n",
    "\n"
   ]
  },
  {
   "cell_type": "code",
   "execution_count": 24,
   "metadata": {
    "collapsed": false
   },
   "outputs": [
    {
     "data": {
      "text/plain": [
       "0"
      ]
     },
     "execution_count": 24,
     "metadata": {},
     "output_type": "execute_result"
    }
   ],
   "source": [
    "p= 1/3\n",
    "p\n",
    "\n"
   ]
  },
  {
   "cell_type": "code",
   "execution_count": 1,
   "metadata": {
    "collapsed": false
   },
   "outputs": [
    {
     "data": {
      "text/plain": [
       "0.3333333333333333"
      ]
     },
     "execution_count": 1,
     "metadata": {},
     "output_type": "execute_result"
    }
   ],
   "source": [
    "p=1.0/3\n",
    "p"
   ]
  },
  {
   "cell_type": "code",
   "execution_count": 11,
   "metadata": {
    "collapsed": false
   },
   "outputs": [
    {
     "data": {
      "text/plain": [
       "[[0, 0, 0, 0, 4, 5, 6, 7, 8, 9, 0],\n",
       " [0, 0, 0, 0, 4, 5, 6, 7, 8, 9, 0],\n",
       " [0, 0, 0, 0, 4, 5, 6, 7, 8, 9, 0],\n",
       " [0, 0, 0, 0, 4, 5, 6, 7, 8, 9, 0],\n",
       " [0, 0, 0, 0, 4, 5, 6, 7, 8, 9, 0],\n",
       " [0, 0, 0, 0, 4, 5, 6, 7, 8, 9, 0],\n",
       " [0, 0, 0, 0, 4, 5, 6, 7, 8, 9, 0],\n",
       " [0, 0, 0, 0, 4, 5, 6, 7, 8, 9, 0],\n",
       " [0, 0, 0, 0, 4, 5, 6, 7, 8, 9, 0],\n",
       " [0, 0, 0, 0, 4, 5, 6, 7, 8, 9, 0],\n",
       " [0, 0, 0, 0, 4, 5, 6, 7, 8, 9, 0]]"
      ]
     },
     "execution_count": 11,
     "metadata": {},
     "output_type": "execute_result"
    }
   ],
   "source": [
    "n=10\n",
    "p=1/3.0\n",
    "a=[0]*(n+1)\n",
    "e=0.00001#εの代わりです。\n",
    "senni_gyoretu=[a for i in range(n+1)]\n",
    "for i in range(n+1):\n",
    "    if float(i)/n > p and i!=n:\n",
    "        #senni_gyoretu[i][i+1]=(1-float(i)/n)*(1-e/2)\n",
    "        #senni_gyoretu[i][i-1]=float(i)/n*e/2\n",
    "        #senni_gyoretu[i][i]=1-((1-float(i)/n)*(1-e/2))-(float(i)/n*e/2)\n",
    "        senni_gyoretu[i][i]=i\n",
    "        \n",
    "senni_gyoretu"
   ]
  },
  {
   "cell_type": "code",
   "execution_count": 14,
   "metadata": {
    "collapsed": false
   },
   "outputs": [
    {
     "data": {
      "text/plain": [
       "[[0, 0, 2, 0, 0, 0, 0, 0, 0, 0, 0],\n",
       " [0, 0, 2, 0, 0, 0, 0, 0, 0, 0, 0],\n",
       " [0, 0, 2, 0, 0, 0, 0, 0, 0, 0, 0],\n",
       " [0, 0, 2, 0, 0, 0, 0, 0, 0, 0, 0],\n",
       " [0, 0, 2, 0, 0, 0, 0, 0, 0, 0, 0],\n",
       " [0, 0, 2, 0, 0, 0, 0, 0, 0, 0, 0],\n",
       " [0, 0, 2, 0, 0, 0, 0, 0, 0, 0, 0],\n",
       " [0, 0, 2, 0, 0, 0, 0, 0, 0, 0, 0],\n",
       " [0, 0, 2, 0, 0, 0, 0, 0, 0, 0, 0],\n",
       " [0, 0, 2, 0, 0, 0, 0, 0, 0, 0, 0],\n",
       " [0, 0, 2, 0, 0, 0, 0, 0, 0, 0, 0]]"
      ]
     },
     "execution_count": 14,
     "metadata": {},
     "output_type": "execute_result"
    }
   ],
   "source": [
    "n=10\n",
    "a=[0]*(n+1)\n",
    "p=[a for i in range(n+1)]\n",
    "p[2][2]=2\n",
    "p"
   ]
  },
  {
   "cell_type": "code",
   "execution_count": 17,
   "metadata": {
    "collapsed": false
   },
   "outputs": [
    {
     "ename": "AttributeError",
     "evalue": "'int' object has no attribute 'append'",
     "output_type": "error",
     "traceback": [
      "\u001b[1;31m---------------------------------------------------------------------------\u001b[0m",
      "\u001b[1;31mAttributeError\u001b[0m                            Traceback (most recent call last)",
      "\u001b[1;32m<ipython-input-17-95cee4f67239>\u001b[0m in \u001b[0;36m<module>\u001b[1;34m()\u001b[0m\n\u001b[0;32m      2\u001b[0m \u001b[0ma\u001b[0m\u001b[1;33m=\u001b[0m\u001b[1;33m[\u001b[0m\u001b[1;36m0\u001b[0m\u001b[1;33m]\u001b[0m\u001b[1;33m*\u001b[0m\u001b[1;33m(\u001b[0m\u001b[0mn\u001b[0m\u001b[1;33m+\u001b[0m\u001b[1;36m1\u001b[0m\u001b[1;33m)\u001b[0m\u001b[1;33m\u001b[0m\u001b[0m\n\u001b[0;32m      3\u001b[0m \u001b[0mp\u001b[0m\u001b[1;33m=\u001b[0m\u001b[1;33m[\u001b[0m\u001b[0ma\u001b[0m \u001b[1;32mfor\u001b[0m \u001b[0mi\u001b[0m \u001b[1;32min\u001b[0m \u001b[0mrange\u001b[0m\u001b[1;33m(\u001b[0m\u001b[0mn\u001b[0m\u001b[1;33m+\u001b[0m\u001b[1;36m1\u001b[0m\u001b[1;33m)\u001b[0m\u001b[1;33m]\u001b[0m\u001b[1;33m\u001b[0m\u001b[0m\n\u001b[1;32m----> 4\u001b[1;33m \u001b[0mp\u001b[0m\u001b[1;33m[\u001b[0m\u001b[1;36m2\u001b[0m\u001b[1;33m]\u001b[0m\u001b[1;33m[\u001b[0m\u001b[1;36m2\u001b[0m\u001b[1;33m]\u001b[0m\u001b[1;33m.\u001b[0m\u001b[0mappend\u001b[0m\u001b[1;33m(\u001b[0m\u001b[1;36m2\u001b[0m\u001b[1;33m)\u001b[0m\u001b[1;33m\u001b[0m\u001b[0m\n\u001b[0m\u001b[0;32m      5\u001b[0m \u001b[0mp\u001b[0m\u001b[1;33m\u001b[0m\u001b[0m\n",
      "\u001b[1;31mAttributeError\u001b[0m: 'int' object has no attribute 'append'"
     ]
    }
   ],
   "source": [
    "n=10\n",
    "a=[0]*(n+1)\n",
    "p=[a for i in range(n+1)]\n",
    "p[2][2].append(2)\n",
    "p"
   ]
  },
  {
   "cell_type": "code",
   "execution_count": 20,
   "metadata": {
    "collapsed": false
   },
   "outputs": [
    {
     "data": {
      "text/plain": [
       "[[0, 0, 0, 0, 0, 0, 0, 0, 0, 0, 0],\n",
       " [0, 0, 0, 0, 0, 0, 0, 0, 0, 0, 0],\n",
       " [0, 0, 0, 0, 0, 0, 0, 0, 0, 0, 0],\n",
       " [0, 0, 0, 0, 0, 0, 0, 0, 0, 0, 0],\n",
       " [0, 0, 0, 2.0000000000000003e-06, 0.400001, 0.599997, 0, 0, 0, 0, 0],\n",
       " [0, 0, 0, 0, 2.5e-06, 0.5, 0.4999975, 0, 0, 0, 0],\n",
       " [0, 0, 0, 0, 0, 3e-06, 0.599999, 0.399998, 0, 0, 0],\n",
       " [0, 0, 0, 0, 0, 0, 3.5e-06, 0.6999979999999999, 0.29999850000000006, 0, 0],\n",
       " [0,\n",
       "  0,\n",
       "  0,\n",
       "  0,\n",
       "  0,\n",
       "  0,\n",
       "  0,\n",
       "  4.000000000000001e-06,\n",
       "  0.7999970000000001,\n",
       "  0.19999899999999995,\n",
       "  0],\n",
       " [0, 0, 0, 0, 0, 0, 0, 0, 4.5e-06, 0.899996, 0.09999949999999998],\n",
       " [0, 0, 0, 0, 0, 0, 0, 0, 0, 0, 0]]"
      ]
     },
     "execution_count": 20,
     "metadata": {},
     "output_type": "execute_result"
    }
   ],
   "source": [
    "n=10\n",
    "p=1/3.0\n",
    "a=[0]*(n+1)\n",
    "e=0.00001#εの代わりです。\n",
    "senni_gyoretu=[[0 for i in range(n+1)] for j in range(n+1)]#http://sonickun.hatenablog.com/entry/2014/06/13/132821参考\n",
    "for i in range(n+1):\n",
    "    if float(i)/n > p and i!=n:\n",
    "        senni_gyoretu[i][i+1]=(1-float(i)/n)*(1-e/2)\n",
    "        senni_gyoretu[i][i-1]=float(i)/n*e/2\n",
    "        senni_gyoretu[i][i]=1-((1-float(i)/n)*(1-e/2))-(float(i)/n*e/2)\n",
    "        \n",
    "        \n",
    "senni_gyoretu"
   ]
  },
  {
   "cell_type": "code",
   "execution_count": 24,
   "metadata": {
    "collapsed": false
   },
   "outputs": [
    {
     "data": {
      "text/plain": [
       "[[0, 0, 0, 0, 0, 0, 0, 0, 0, 0, 0],\n",
       " [0, 0, 0, 0, 0, 0, 0, 0, 0, 0, 0],\n",
       " [0, 0, 0, 0, 0, 0, 0, 0, 0, 0, 0],\n",
       " [0, 0, 0, 0, 0, 0, 0, 0, 0, 0, 0],\n",
       " [0, 0, 0, 0, 0, 0.599997, 0, 0, 0, 0, 0],\n",
       " [0, 0, 0, 0, 0, 0, 0.4999975, 0, 0, 0, 0],\n",
       " [0, 0, 0, 0, 0, 0, 0, 0.399998, 0, 0, 0],\n",
       " [0, 0, 0, 0, 0, 0, 0, 0, 0.29999850000000006, 0, 0],\n",
       " [0, 0, 0, 0, 0, 0, 0, 0, 0, 0.19999899999999995, 0],\n",
       " [0, 0, 0, 0, 0, 0, 0, 0, 0, 0, 0.09999949999999998],\n",
       " [0, 0, 0, 0, 0, 0, 0, 0, 0, 0, 0]]"
      ]
     },
     "execution_count": 24,
     "metadata": {},
     "output_type": "execute_result"
    }
   ],
   "source": [
    "n=10\n",
    "p=1/3.0\n",
    "a=[0]*(n+1)\n",
    "e=0.00001#εの代わりです。\n",
    "senni_gyoretu=[[0 for i in range(n+1)] for j in range(n+1)]#http://sonickun.hatenablog.com/entry/2014/06/13/132821参考\n",
    "for i in range(n+1):\n",
    "    if float(i)/n > p and i!=n:\n",
    "        senni_gyoretu[i][i+1]=(1-float(i)/n)*(1-e/2)\n",
    "        #senni_gyoretu[i][i-1]=float(i)/n*e/2\n",
    "        #senni_gyoretu[i][i]=1-((1-float(i)/n)*(1-e/2))-(float(i)/n*e/2)\n",
    "        \n",
    "        \n",
    "senni_gyoretu"
   ]
  },
  {
   "cell_type": "code",
   "execution_count": 38,
   "metadata": {
    "collapsed": false
   },
   "outputs": [
    {
     "data": {
      "text/plain": [
       "[[0, 0, 0, 0, 0, 0, 0, 0, 0, 0, 0],\n",
       " [0, 0, 0, 0, 0, 0, 0, 0, 0, 0, 0],\n",
       " [0, 0, 0, 0, 0, 0, 0, 0, 0, 0, 0],\n",
       " [0, 0, 0, 0, 0, 0, 0, 0, 0, 0, 0],\n",
       " [0, 0, 0, 0, 0, 0.599997, 0, 0, 0, 0, 0],\n",
       " [0, 0, 0, 0, 0, 0, 0.4999975, 0, 0, 0, 0],\n",
       " [0, 0, 0, 0, 0, 0, 0, 0.399998, 0, 0, 0],\n",
       " [0, 0, 0, 0, 0, 0, 0, 0, 0.29999850000000006, 0, 0],\n",
       " [0, 0, 0, 0, 0, 0, 0, 0, 0, 0.19999899999999995, 0],\n",
       " [0, 0, 0, 0, 0, 0, 0, 0, 0, 0, 0.09999949999999998],\n",
       " [0, 0, 0, 0, 0, 0, 0, 0, 0, 0, 0]]"
      ]
     },
     "execution_count": 38,
     "metadata": {},
     "output_type": "execute_result"
    }
   ],
   "source": [
    "n=10\n",
    "p=1/3.0\n",
    "a=[0]*(n+1)\n",
    "e=0.00001#εの代わりです。\n",
    "senni_gyoretu=[[0 for i in range(n+1)] for j in range(n+1)]#http://sonickun.hatenablog.com/entry/2014/06/13/132821参考\n",
    "for i in range(n+1):\n",
    "    if float(i)/n > p and i!=n:\n",
    "        senni_gyoretu[i][i+1]=(1-float(i)/n)*(1-e/2)\n",
    "        #senni_gyoretu[i][i-1]=float(i)/n*(e/2)\n",
    "        #senni_gyoretu[i][i]=1-((1-float(i)/n)*(1-e/2))-(float(i)/n*e/2)\n",
    "        \n",
    "        \n",
    "senni_gyoretu"
   ]
  },
  {
   "cell_type": "code",
   "execution_count": 32,
   "metadata": {
    "collapsed": false
   },
   "outputs": [
    {
     "data": {
      "text/plain": [
       "5e-06"
      ]
     },
     "execution_count": 32,
     "metadata": {},
     "output_type": "execute_result"
    }
   ],
   "source": [
    "e=0.00001\n",
    "e/2\n"
   ]
  },
  {
   "cell_type": "code",
   "execution_count": 33,
   "metadata": {
    "collapsed": false
   },
   "outputs": [
    {
     "data": {
      "text/plain": [
       "5e-06"
      ]
     },
     "execution_count": 33,
     "metadata": {},
     "output_type": "execute_result"
    }
   ],
   "source": [
    "0.00001/2"
   ]
  },
  {
   "cell_type": "code",
   "execution_count": 37,
   "metadata": {
    "collapsed": false
   },
   "outputs": [
    {
     "data": {
      "text/plain": [
       "0.0005"
      ]
     },
     "execution_count": 37,
     "metadata": {},
     "output_type": "execute_result"
    }
   ],
   "source": [
    "0.001/2"
   ]
  },
  {
   "cell_type": "code",
   "execution_count": 3,
   "metadata": {
    "collapsed": false
   },
   "outputs": [
    {
     "data": {
      "text/plain": [
       "[[0.999995, 5e-06, 0, 0, 0, 0, 0, 0, 0, 0, 0],\n",
       " [0.0999995, 0.899996, 4.5e-06, 0, 0, 0, 0, 0, 0, 0, 0],\n",
       " [0, 0.199999, 0.799997, 4.000000000000001e-06, 0, 0, 0, 0, 0, 0, 0],\n",
       " [0, 0, 0.2999985, 0.6999979999999999, 3.5e-06, 0, 0, 0, 0, 0, 0],\n",
       " [0, 0, 0, 2.0000000000000003e-06, 0.400001, 0.599997, 0, 0, 0, 0, 0],\n",
       " [0, 0, 0, 0, 2.5e-06, 0.5, 0.4999975, 0, 0, 0, 0],\n",
       " [0, 0, 0, 0, 0, 3e-06, 0.599999, 0.399998, 0, 0, 0],\n",
       " [0, 0, 0, 0, 0, 0, 3.5e-06, 0.6999979999999999, 0.29999850000000006, 0, 0],\n",
       " [0,\n",
       "  0,\n",
       "  0,\n",
       "  0,\n",
       "  0,\n",
       "  0,\n",
       "  0,\n",
       "  4.000000000000001e-06,\n",
       "  0.7999970000000001,\n",
       "  0.19999899999999995,\n",
       "  0],\n",
       " [0, 0, 0, 0, 0, 0, 0, 0, 4.5e-06, 0.899996, 0.09999949999999998],\n",
       " [0, 0, 0, 0, 0, 0, 0, 0, 0, 5e-06, 0.999995]]"
      ]
     },
     "execution_count": 3,
     "metadata": {},
     "output_type": "execute_result"
    }
   ],
   "source": [
    "#逐次改定で、自分と対戦することも可とした場合の遷移行列。\n",
    "#5e-06は0.00001/2の意味のようです。\n",
    "n=10\n",
    "p=1/3.0\n",
    "a=[0]*(n+1)\n",
    "e=0.00001#εの代わりです。\n",
    "senni_gyoretu=[[0 for i in range(n+1)] for j in range(n+1)]#http://sonickun.hatenablog.com/entry/2014/06/13/132821参考\n",
    "for i in range(n+1):\n",
    "    if float(i)/n > p and i!=n:\n",
    "        senni_gyoretu[i][i+1]=(1-float(i)/n)*(1-e/2)\n",
    "        senni_gyoretu[i][i-1]=float(i)/n*(e/2)\n",
    "        senni_gyoretu[i][i]=1-((1-float(i)/n)*(1-e/2))-(float(i)/n*e/2)\n",
    "    if float(i)/n < p and i!=0:\n",
    "        senni_gyoretu[i][i+1]=(1-float(i)/n)*(e/2)\n",
    "        senni_gyoretu[i][i-1]=float(i)/n*(1-e/2)\n",
    "        senni_gyoretu[i][i]=1-((1-float(i)/n)*(e/2))-(float(i)/n*(1-e/2))\n",
    "    if float(i)/n == p:    \n",
    "        senni_gyoretu[i][i+1]=1/2-float(i)/2/n\n",
    "        senni_gyoretu[i][i-1]=float(i)/2/n\n",
    "        senni_gyoretu[i][i]=1/2\n",
    "    if float(i)==n:\n",
    "        senni_gyoretu[i][i-1]=e/2\n",
    "        senni_gyoretu[i][i]=1-e/2\n",
    "    if float(i)==0:\n",
    "        senni_gyoretu[i][i+1]=e/2\n",
    "        senni_gyoretu[i][i]=1-e/2\n",
    "senni_gyoretu       \n"
   ]
  },
  {
   "cell_type": "code",
   "execution_count": 1,
   "metadata": {
    "collapsed": false
   },
   "outputs": [
    {
     "data": {
      "text/plain": [
       "0.5"
      ]
     },
     "execution_count": 1,
     "metadata": {},
     "output_type": "execute_result"
    }
   ],
   "source": [
    "from __future__ import division\n",
    "P=1/2\n",
    "P"
   ]
  },
  {
   "cell_type": "code",
   "execution_count": 8,
   "metadata": {
    "collapsed": false
   },
   "outputs": [
    {
     "data": {
      "text/plain": [
       "[[0.999995, 5e-06, 0, 0, 0, 0, 0, 0, 0, 0, 0],\n",
       " [0.0999995, 0.899996, 4.5e-06, 0, 0, 0, 0, 0, 0, 0, 0],\n",
       " [0, 0.199999, 0.799997, 4.000000000000001e-06, 0, 0, 0, 0, 0, 0, 0],\n",
       " [0, 0, 0.2999985, 0.6999979999999999, 3.5e-06, 0, 0, 0, 0, 0, 0],\n",
       " [0, 0, 0, 2.0000000000000003e-06, 0.400001, 0.599997, 0, 0, 0, 0, 0],\n",
       " [0, 0, 0, 0, 2.5e-06, 0.5, 0.4999975, 0, 0, 0, 0],\n",
       " [0, 0, 0, 0, 0, 3e-06, 0.599999, 0.399998, 0, 0, 0],\n",
       " [0, 0, 0, 0, 0, 0, 3.5e-06, 0.6999979999999999, 0.29999850000000006, 0, 0],\n",
       " [0,\n",
       "  0,\n",
       "  0,\n",
       "  0,\n",
       "  0,\n",
       "  0,\n",
       "  0,\n",
       "  4.000000000000001e-06,\n",
       "  0.7999970000000001,\n",
       "  0.19999899999999995,\n",
       "  0],\n",
       " [0, 0, 0, 0, 0, 0, 0, 0, 4.5e-06, 0.899996, 0.09999949999999998],\n",
       " [0, 0, 0, 0, 0, 0, 0, 0, 0, 5e-06, 0.999995]]"
      ]
     },
     "execution_count": 8,
     "metadata": {},
     "output_type": "execute_result"
    }
   ],
   "source": [
    "#逐次改定で、自分と対戦することも可とした場合の遷移行列。\n",
    "#5e-06の意味はhttp://detail.chiebukuro.yahoo.co.jp/qa/question_detail/q1013214680\n",
    "from __future__ import division#http://sucrose.hatenablog.com/entry/2013/07/21/201419参照\n",
    "import numpy as np\n",
    "n=10\n",
    "p=1/3.0\n",
    "a=[0]*(n+1)\n",
    "e=0.00001#εの代わりです。\n",
    "senni_gyoretu=[[0 for i in range(n+1)] for j in range(n+1)]#http://sonickun.hatenablog.com/entry/2014/06/13/132821参考\n",
    "#senni_gyoretu=np.zeros((n+1, n+1), dtype=np.int)\n",
    "for i in range(n+1):\n",
    "    if i/n > p and i!=n:\n",
    "        senni_gyoretu[i][i+1]=(1-i/n)*(1-e/2)\n",
    "        senni_gyoretu[i][i-1]=i/n*(e/2)\n",
    "        senni_gyoretu[i][i]=1-((1-i/n)*(1-e/2))-(i/n*e/2)\n",
    "    if i/n < p and i!=0:\n",
    "        senni_gyoretu[i][i+1]=(1-i/n)*(e/2)\n",
    "        senni_gyoretu[i][i-1]=i/n*(1-e/2)\n",
    "        senni_gyoretu[i][i]=1-((1-i/n)*(e/2))-(i/n*(1-e/2))\n",
    "    if i/n == p:    \n",
    "        senni_gyoretu[i][i+1]=1/2-i/2/n\n",
    "        senni_gyoretu[i][i-1]=i/2/n\n",
    "        senni_gyoretu[i][i]=1/2\n",
    "    if i==n:\n",
    "        senni_gyoretu[i][i-1]=e/2\n",
    "        senni_gyoretu[i][i]=1-e/2\n",
    "    if i==0:\n",
    "        senni_gyoretu[i][i+1]=e/2\n",
    "        senni_gyoretu[i][i]=1-e/2\n",
    "senni_gyoretu       \n",
    "\n"
   ]
  },
  {
   "cell_type": "code",
   "execution_count": 10,
   "metadata": {
    "collapsed": false
   },
   "outputs": [
    {
     "data": {
      "text/plain": [
       "array([[0, 0, 0, 0, 0, 0, 0, 0, 0, 0, 0],\n",
       "       [0, 0, 0, 0, 0, 0, 0, 0, 0, 0, 0],\n",
       "       [0, 0, 0, 0, 0, 0, 0, 0, 0, 0, 0],\n",
       "       [0, 0, 0, 0, 0, 0, 0, 0, 0, 0, 0],\n",
       "       [0, 0, 0, 0, 0, 0, 0, 0, 0, 0, 0],\n",
       "       [0, 0, 0, 0, 0, 0, 0, 0, 0, 0, 0],\n",
       "       [0, 0, 0, 0, 0, 0, 0, 0, 0, 0, 0],\n",
       "       [0, 0, 0, 0, 0, 0, 0, 0, 0, 0, 0],\n",
       "       [0, 0, 0, 0, 0, 0, 0, 0, 0, 0, 0],\n",
       "       [0, 0, 0, 0, 0, 0, 0, 0, 0, 0, 0],\n",
       "       [0, 0, 0, 0, 0, 0, 0, 0, 0, 0, 0]])"
      ]
     },
     "execution_count": 10,
     "metadata": {},
     "output_type": "execute_result"
    }
   ],
   "source": [
    "#逐次改定で、自分と対戦することも可とした場合の遷移行列。senni_gyoretu=np.zeros((n+1, n+1), dtype=np.int)を使ったがうまく行かず。\n",
    "#5e-06の意味はhttp://detail.chiebukuro.yahoo.co.jp/qa/question_detail/q1013214680\n",
    "from __future__ import division#http://sucrose.hatenablog.com/entry/2013/07/21/201419参照\n",
    "import numpy as np\n",
    "n=10\n",
    "p=1/3.0\n",
    "a=[0]*(n+1)\n",
    "e=0.00001#εの代わりです。\n",
    "#senni_gyoretu=[[0 for i in range(n+1)] for j in range(n+1)]#http://sonickun.hatenablog.com/entry/2014/06/13/132821参考\n",
    "senni_gyoretu=np.zeros((n+1, n+1), dtype=np.int)\n",
    "for i in range(n+1):\n",
    "    if i/n > p and i!=n:\n",
    "        senni_gyoretu[i][i+1]=(1-i/n)*(1-e/2)\n",
    "        senni_gyoretu[i][i-1]=i/n*(e/2)\n",
    "        senni_gyoretu[i][i]=1-((1-i/n)*(1-e/2))-(i/n*e/2)\n",
    "    if i/n < p and i!=0:\n",
    "        senni_gyoretu[i][i+1]=(1-i/n)*(e/2)\n",
    "        senni_gyoretu[i][i-1]=i/n*(1-e/2)\n",
    "        senni_gyoretu[i][i]=1-((1-i/n)*(e/2))-(i/n*(1-e/2))\n",
    "    if i/n == p:    \n",
    "        senni_gyoretu[i][i+1]=1/2-i/2/n\n",
    "        senni_gyoretu[i][i-1]=i/2/n\n",
    "        senni_gyoretu[i][i]=1/2\n",
    "    if i==n:\n",
    "        senni_gyoretu[i][i-1]=e/2\n",
    "        senni_gyoretu[i][i]=1-e/2\n",
    "    if i==0:\n",
    "        senni_gyoretu[i][i+1]=e/2\n",
    "        senni_gyoretu[i][i]=1-e/2\n",
    "senni_gyoretu       "
   ]
  },
  {
   "cell_type": "code",
   "execution_count": null,
   "metadata": {
    "collapsed": true
   },
   "outputs": [],
   "source": []
  }
 ],
 "metadata": {
  "kernelspec": {
   "display_name": "Python 2",
   "language": "python",
   "name": "python2"
  },
  "language_info": {
   "codemirror_mode": {
    "name": "ipython",
    "version": 2
   },
   "file_extension": ".py",
   "mimetype": "text/x-python",
   "name": "python",
   "nbconvert_exporter": "python",
   "pygments_lexer": "ipython2",
   "version": "2.7.10"
  }
 },
 "nbformat": 4,
 "nbformat_minor": 0
}
